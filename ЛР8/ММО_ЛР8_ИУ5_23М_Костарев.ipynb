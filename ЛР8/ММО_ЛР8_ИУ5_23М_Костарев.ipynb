{
  "nbformat": 4,
  "nbformat_minor": 0,
  "metadata": {
    "colab": {
      "provenance": []
    },
    "kernelspec": {
      "name": "python3",
      "display_name": "Python 3"
    },
    "language_info": {
      "name": "python"
    }
  },
  "cells": [
    {
      "cell_type": "markdown",
      "source": [
        "# Лабораторная работа 8\n",
        "\n",
        "**Тема**: Предобработка текста\n",
        "\n",
        "**Курс**: Методы машинного обучения\n",
        "\n",
        "**Группа**: ИУ5-23М\n",
        "\n",
        "**Студент**: Костарев А. П."
      ],
      "metadata": {
        "id": "jBhOQlz00H3E"
      }
    },
    {
      "cell_type": "markdown",
      "source": [
        "## Цель\n",
        "\n",
        "Изучение методов предобработки текстов."
      ],
      "metadata": {
        "id": "So1TLnz50dpL"
      }
    },
    {
      "cell_type": "markdown",
      "source": [
        "## Задание\n",
        "\n",
        "Для произвольного предложения или текста решите следующие задачи:\n",
        "- Токенизация.\n",
        "- Частеречная разметка.\n",
        "- Лемматизация.\n",
        "- Выделение (распознавание) именованных сущностей.\n",
        "- Разбор предложения.\n"
      ],
      "metadata": {
        "id": "u11wb9HWzuHE"
      }
    },
    {
      "cell_type": "markdown",
      "source": [
        "## Выполнение задания\n",
        "\n",
        "\n"
      ],
      "metadata": {
        "id": "TEIme5xU0Byh"
      }
    },
    {
      "cell_type": "markdown",
      "metadata": {
        "id": "2b2747f1"
      },
      "source": [
        "### Токенизация"
      ]
    },
    {
      "cell_type": "code",
      "execution_count": 18,
      "metadata": {
        "id": "fc67b2f6"
      },
      "outputs": [],
      "source": [
        "text1 = 'Адаптивная вёрстка меняет дизайн страницы в зависимости от поведения пользователя, платформы, размера экрана и ориентации девайса и является неотъемлемой частью современной веб-разработки.'\n",
        "text2 = 'Покупатели могут получать заказы в пунктах выдачи заказов, в почтоматах (преимуществом этого варианта является экономия на оплате труда) или заказы могут доставляться им непосредственно до дома (или места работы) курьерами.'\n",
        "text3 = 'Содержит ли это излучение информацию об их внутренней структуре, как это предполагает дуальность тяготение-калибровочная инвариантность, или нет, как следует из оригинального расчёта Хокинга?'"
      ]
    },
    {
      "cell_type": "code",
      "source": [
        "!pip install razdel navec slovnet natasha"
      ],
      "metadata": {
        "colab": {
          "base_uri": "https://localhost:8080/"
        },
        "id": "AkrhoThMqY1t",
        "outputId": "0bfc382b-d52d-4788-cd79-256531887a74"
      },
      "execution_count": 45,
      "outputs": [
        {
          "output_type": "stream",
          "name": "stdout",
          "text": [
            "Requirement already satisfied: razdel in /usr/local/lib/python3.10/dist-packages (0.5.0)\n",
            "Requirement already satisfied: navec in /usr/local/lib/python3.10/dist-packages (0.10.0)\n",
            "Requirement already satisfied: slovnet in /usr/local/lib/python3.10/dist-packages (0.6.0)\n",
            "Collecting natasha\n",
            "  Downloading natasha-1.6.0-py3-none-any.whl (34.4 MB)\n",
            "\u001b[2K     \u001b[90m━━━━━━━━━━━━━━━━━━━━━━━━━━━━━━━━━━━━━━━━\u001b[0m \u001b[32m34.4/34.4 MB\u001b[0m \u001b[31m31.3 MB/s\u001b[0m eta \u001b[36m0:00:00\u001b[0m\n",
            "\u001b[?25hRequirement already satisfied: numpy in /usr/local/lib/python3.10/dist-packages (from navec) (1.25.2)\n",
            "Collecting pymorphy2 (from natasha)\n",
            "  Downloading pymorphy2-0.9.1-py3-none-any.whl (55 kB)\n",
            "\u001b[2K     \u001b[90m━━━━━━━━━━━━━━━━━━━━━━━━━━━━━━━━━━━━━━━━\u001b[0m \u001b[32m55.5/55.5 kB\u001b[0m \u001b[31m7.1 MB/s\u001b[0m eta \u001b[36m0:00:00\u001b[0m\n",
            "\u001b[?25hCollecting yargy>=0.16.0 (from natasha)\n",
            "  Downloading yargy-0.16.0-py3-none-any.whl (33 kB)\n",
            "Collecting ipymarkup>=0.8.0 (from natasha)\n",
            "  Downloading ipymarkup-0.9.0-py3-none-any.whl (14 kB)\n",
            "Collecting intervaltree>=3 (from ipymarkup>=0.8.0->natasha)\n",
            "  Downloading intervaltree-3.1.0.tar.gz (32 kB)\n",
            "  Preparing metadata (setup.py) ... \u001b[?25l\u001b[?25hdone\n",
            "Collecting dawg-python>=0.7.1 (from pymorphy2->natasha)\n",
            "  Downloading DAWG_Python-0.7.2-py2.py3-none-any.whl (11 kB)\n",
            "Collecting pymorphy2-dicts-ru<3.0,>=2.4 (from pymorphy2->natasha)\n",
            "  Downloading pymorphy2_dicts_ru-2.4.417127.4579844-py2.py3-none-any.whl (8.2 MB)\n",
            "\u001b[2K     \u001b[90m━━━━━━━━━━━━━━━━━━━━━━━━━━━━━━━━━━━━━━━━\u001b[0m \u001b[32m8.2/8.2 MB\u001b[0m \u001b[31m62.7 MB/s\u001b[0m eta \u001b[36m0:00:00\u001b[0m\n",
            "\u001b[?25hCollecting docopt>=0.6 (from pymorphy2->natasha)\n",
            "  Downloading docopt-0.6.2.tar.gz (25 kB)\n",
            "  Preparing metadata (setup.py) ... \u001b[?25l\u001b[?25hdone\n",
            "Requirement already satisfied: sortedcontainers<3.0,>=2.0 in /usr/local/lib/python3.10/dist-packages (from intervaltree>=3->ipymarkup>=0.8.0->natasha) (2.4.0)\n",
            "Building wheels for collected packages: docopt, intervaltree\n",
            "  Building wheel for docopt (setup.py) ... \u001b[?25l\u001b[?25hdone\n",
            "  Created wheel for docopt: filename=docopt-0.6.2-py2.py3-none-any.whl size=13706 sha256=2d54c69760a3dd398093506b8d4532845055d5517e5b0012385f545297f40f50\n",
            "  Stored in directory: /root/.cache/pip/wheels/fc/ab/d4/5da2067ac95b36618c629a5f93f809425700506f72c9732fac\n",
            "  Building wheel for intervaltree (setup.py) ... \u001b[?25l\u001b[?25hdone\n",
            "  Created wheel for intervaltree: filename=intervaltree-3.1.0-py2.py3-none-any.whl size=26096 sha256=5ca53864a6ecad6303c01e00b3c9d72244ecb38f93e0b149f5ce82313ff30040\n",
            "  Stored in directory: /root/.cache/pip/wheels/fa/80/8c/43488a924a046b733b64de3fac99252674c892a4c3801c0a61\n",
            "Successfully built docopt intervaltree\n",
            "Installing collected packages: pymorphy2-dicts-ru, docopt, dawg-python, pymorphy2, intervaltree, yargy, ipymarkup, natasha\n",
            "Successfully installed dawg-python-0.7.2 docopt-0.6.2 intervaltree-3.1.0 ipymarkup-0.9.0 natasha-1.6.0 pymorphy2-0.9.1 pymorphy2-dicts-ru-2.4.417127.4579844 yargy-0.16.0\n"
          ]
        }
      ]
    },
    {
      "cell_type": "code",
      "execution_count": 19,
      "metadata": {
        "id": "20d02c93",
        "outputId": "27bdb7e2-ad7c-42b8-a80d-95f7735894d2",
        "colab": {
          "base_uri": "https://localhost:8080/"
        }
      },
      "outputs": [
        {
          "output_type": "stream",
          "name": "stderr",
          "text": [
            "[nltk_data] Downloading package punkt to /root/nltk_data...\n",
            "[nltk_data]   Package punkt is already up-to-date!\n"
          ]
        },
        {
          "output_type": "execute_result",
          "data": {
            "text/plain": [
              "True"
            ]
          },
          "metadata": {},
          "execution_count": 19
        }
      ],
      "source": [
        "import nltk\n",
        "from nltk.tokenize import punkt\n",
        "nltk.download('punkt')"
      ]
    },
    {
      "cell_type": "code",
      "execution_count": 20,
      "metadata": {
        "id": "88592648",
        "outputId": "4f0bd620-bdf4-45f6-e918-7b938fa7e7d3",
        "colab": {
          "base_uri": "https://localhost:8080/"
        }
      },
      "outputs": [
        {
          "output_type": "execute_result",
          "data": {
            "text/plain": [
              "['BlanklineTokenizer',\n",
              " 'LegalitySyllableTokenizer',\n",
              " 'LineTokenizer',\n",
              " 'MWETokenizer',\n",
              " 'NLTKWordTokenizer',\n",
              " 'PunktSentenceTokenizer',\n",
              " 'RegexpTokenizer',\n",
              " 'ReppTokenizer',\n",
              " 'SExprTokenizer',\n",
              " 'SpaceTokenizer',\n",
              " 'StanfordSegmenter',\n",
              " 'SyllableTokenizer',\n",
              " 'TabTokenizer',\n",
              " 'TextTilingTokenizer',\n",
              " 'ToktokTokenizer',\n",
              " 'TreebankWordDetokenizer',\n",
              " 'TreebankWordTokenizer',\n",
              " 'TweetTokenizer']"
            ]
          },
          "metadata": {},
          "execution_count": 20
        }
      ],
      "source": [
        "from nltk import tokenize\n",
        "dir(tokenize)[:18]"
      ]
    },
    {
      "cell_type": "code",
      "execution_count": 21,
      "metadata": {
        "id": "9db488fd",
        "outputId": "94f10893-ac28-4304-fcea-890e79d028b7",
        "colab": {
          "base_uri": "https://localhost:8080/"
        }
      },
      "outputs": [
        {
          "output_type": "execute_result",
          "data": {
            "text/plain": [
              "['Адаптивная',\n",
              " 'вёрстка',\n",
              " 'меняет',\n",
              " 'дизайн',\n",
              " 'страницы',\n",
              " 'в',\n",
              " 'зависимости',\n",
              " 'от',\n",
              " 'поведения',\n",
              " 'пользователя',\n",
              " ',',\n",
              " 'платформы',\n",
              " ',',\n",
              " 'размера',\n",
              " 'экрана',\n",
              " 'и',\n",
              " 'ориентации',\n",
              " 'девайса',\n",
              " 'и',\n",
              " 'является',\n",
              " 'неотъемлемой',\n",
              " 'частью',\n",
              " 'современной',\n",
              " 'веб',\n",
              " '-',\n",
              " 'разработки',\n",
              " '.']"
            ]
          },
          "metadata": {},
          "execution_count": 21
        }
      ],
      "source": [
        "nltk_tk_1 = nltk.WordPunctTokenizer()\n",
        "nltk_tk_1.tokenize(text1)"
      ]
    },
    {
      "cell_type": "code",
      "execution_count": 22,
      "metadata": {
        "id": "1c86f853",
        "outputId": "4a85823f-b77b-4300-ed85-4b780e9831ed",
        "colab": {
          "base_uri": "https://localhost:8080/"
        }
      },
      "outputs": [
        {
          "output_type": "stream",
          "name": "stdout",
          "text": [
            "1\n"
          ]
        },
        {
          "output_type": "execute_result",
          "data": {
            "text/plain": [
              "['Адаптивная вёрстка меняет дизайн страницы в зависимости от поведения пользователя, платформы, размера экрана и ориентации девайса и является неотъемлемой частью современной веб-разработки.']"
            ]
          },
          "metadata": {},
          "execution_count": 22
        }
      ],
      "source": [
        "# Токенизация по предложениям\n",
        "nltk_tk_sents = nltk.tokenize.sent_tokenize(text1)\n",
        "print(len(nltk_tk_sents))\n",
        "nltk_tk_sents"
      ]
    },
    {
      "cell_type": "code",
      "execution_count": 24,
      "metadata": {
        "id": "82e97a34"
      },
      "outputs": [],
      "source": [
        "from razdel import tokenize, sentenize"
      ]
    },
    {
      "cell_type": "code",
      "execution_count": 25,
      "metadata": {
        "id": "9cbbe311",
        "outputId": "2b190635-13d6-4e9f-f9ff-1360a84f6745",
        "colab": {
          "base_uri": "https://localhost:8080/"
        }
      },
      "outputs": [
        {
          "output_type": "execute_result",
          "data": {
            "text/plain": [
              "[Substring(0, 10, 'Адаптивная'),\n",
              " Substring(11, 18, 'вёрстка'),\n",
              " Substring(19, 25, 'меняет'),\n",
              " Substring(26, 32, 'дизайн'),\n",
              " Substring(33, 41, 'страницы'),\n",
              " Substring(42, 43, 'в'),\n",
              " Substring(44, 55, 'зависимости'),\n",
              " Substring(56, 58, 'от'),\n",
              " Substring(59, 68, 'поведения'),\n",
              " Substring(69, 81, 'пользователя'),\n",
              " Substring(81, 82, ','),\n",
              " Substring(83, 92, 'платформы'),\n",
              " Substring(92, 93, ','),\n",
              " Substring(94, 101, 'размера'),\n",
              " Substring(102, 108, 'экрана'),\n",
              " Substring(109, 110, 'и'),\n",
              " Substring(111, 121, 'ориентации'),\n",
              " Substring(122, 129, 'девайса'),\n",
              " Substring(130, 131, 'и'),\n",
              " Substring(132, 140, 'является'),\n",
              " Substring(141, 153, 'неотъемлемой'),\n",
              " Substring(154, 160, 'частью'),\n",
              " Substring(161, 172, 'современной'),\n",
              " Substring(173, 187, 'веб-разработки'),\n",
              " Substring(187, 188, '.')]"
            ]
          },
          "metadata": {},
          "execution_count": 25
        }
      ],
      "source": [
        "n_tok_text1 = list(tokenize(text1))\n",
        "n_tok_text1"
      ]
    },
    {
      "cell_type": "code",
      "execution_count": 26,
      "metadata": {
        "id": "91b55b27",
        "outputId": "807f855a-61d4-49e1-9b87-2cc222b36447",
        "colab": {
          "base_uri": "https://localhost:8080/"
        }
      },
      "outputs": [
        {
          "output_type": "execute_result",
          "data": {
            "text/plain": [
              "['Адаптивная',\n",
              " 'вёрстка',\n",
              " 'меняет',\n",
              " 'дизайн',\n",
              " 'страницы',\n",
              " 'в',\n",
              " 'зависимости',\n",
              " 'от',\n",
              " 'поведения',\n",
              " 'пользователя',\n",
              " ',',\n",
              " 'платформы',\n",
              " ',',\n",
              " 'размера',\n",
              " 'экрана',\n",
              " 'и',\n",
              " 'ориентации',\n",
              " 'девайса',\n",
              " 'и',\n",
              " 'является',\n",
              " 'неотъемлемой',\n",
              " 'частью',\n",
              " 'современной',\n",
              " 'веб-разработки',\n",
              " '.']"
            ]
          },
          "metadata": {},
          "execution_count": 26
        }
      ],
      "source": [
        "[_.text for _ in n_tok_text1]"
      ]
    },
    {
      "cell_type": "code",
      "execution_count": 27,
      "metadata": {
        "id": "fa47dec1",
        "outputId": "7b132ed9-2dc8-4a07-ea79-9fa0acded4a6",
        "colab": {
          "base_uri": "https://localhost:8080/"
        }
      },
      "outputs": [
        {
          "output_type": "execute_result",
          "data": {
            "text/plain": [
              "[Substring(0,\n",
              "           188,\n",
              "           'Адаптивная вёрстка меняет дизайн страницы в зависимости от поведения пользователя, платформы, размера экрана и ориентации девайса и является неотъемлемой частью современной веб-разработки.')]"
            ]
          },
          "metadata": {},
          "execution_count": 27
        }
      ],
      "source": [
        "n_sen_text1 = list(sentenize(text1))\n",
        "n_sen_text1"
      ]
    },
    {
      "cell_type": "code",
      "execution_count": 28,
      "metadata": {
        "id": "b8a32eb6",
        "outputId": "438a9553-1d73-43c4-c9ed-6c374e05bbd2",
        "colab": {
          "base_uri": "https://localhost:8080/"
        }
      },
      "outputs": [
        {
          "output_type": "execute_result",
          "data": {
            "text/plain": [
              "(['Адаптивная вёрстка меняет дизайн страницы в зависимости от поведения пользователя, платформы, размера экрана и ориентации девайса и является неотъемлемой частью современной веб-разработки.'],\n",
              " 1)"
            ]
          },
          "metadata": {},
          "execution_count": 28
        }
      ],
      "source": [
        "[_.text for _ in n_sen_text1], len([_.text for _ in n_sen_text1])"
      ]
    },
    {
      "cell_type": "code",
      "execution_count": 29,
      "metadata": {
        "id": "6e467e36"
      },
      "outputs": [],
      "source": [
        "# Этот вариант токенизации нужен для последующей обработки\n",
        "def n_sentenize(text):\n",
        "    n_sen_chunk = []\n",
        "    for sent in sentenize(text):\n",
        "        tokens = [_.text for _ in tokenize(sent.text)]\n",
        "        n_sen_chunk.append(tokens)\n",
        "    return n_sen_chunk"
      ]
    },
    {
      "cell_type": "code",
      "execution_count": 30,
      "metadata": {
        "id": "65a00a34",
        "outputId": "a6c27f21-04fd-4b09-9768-697a72019498",
        "colab": {
          "base_uri": "https://localhost:8080/"
        }
      },
      "outputs": [
        {
          "output_type": "execute_result",
          "data": {
            "text/plain": [
              "[['Адаптивная',\n",
              "  'вёрстка',\n",
              "  'меняет',\n",
              "  'дизайн',\n",
              "  'страницы',\n",
              "  'в',\n",
              "  'зависимости',\n",
              "  'от',\n",
              "  'поведения',\n",
              "  'пользователя',\n",
              "  ',',\n",
              "  'платформы',\n",
              "  ',',\n",
              "  'размера',\n",
              "  'экрана',\n",
              "  'и',\n",
              "  'ориентации',\n",
              "  'девайса',\n",
              "  'и',\n",
              "  'является',\n",
              "  'неотъемлемой',\n",
              "  'частью',\n",
              "  'современной',\n",
              "  'веб-разработки',\n",
              "  '.']]"
            ]
          },
          "metadata": {},
          "execution_count": 30
        }
      ],
      "source": [
        "n_sen_chunk_1 = n_sentenize(text1)\n",
        "n_sen_chunk_1"
      ]
    },
    {
      "cell_type": "code",
      "execution_count": 31,
      "metadata": {
        "id": "61b68950",
        "outputId": "ad8c1885-f23f-4fdf-9af5-f48148dd7595",
        "colab": {
          "base_uri": "https://localhost:8080/"
        }
      },
      "outputs": [
        {
          "output_type": "execute_result",
          "data": {
            "text/plain": [
              "[['Покупатели',\n",
              "  'могут',\n",
              "  'получать',\n",
              "  'заказы',\n",
              "  'в',\n",
              "  'пунктах',\n",
              "  'выдачи',\n",
              "  'заказов',\n",
              "  ',',\n",
              "  'в',\n",
              "  'почтоматах',\n",
              "  '(',\n",
              "  'преимуществом',\n",
              "  'этого',\n",
              "  'варианта',\n",
              "  'является',\n",
              "  'экономия',\n",
              "  'на',\n",
              "  'оплате',\n",
              "  'труда',\n",
              "  ')',\n",
              "  'или',\n",
              "  'заказы',\n",
              "  'могут',\n",
              "  'доставляться',\n",
              "  'им',\n",
              "  'непосредственно',\n",
              "  'до',\n",
              "  'дома',\n",
              "  '(',\n",
              "  'или',\n",
              "  'места',\n",
              "  'работы',\n",
              "  ')',\n",
              "  'курьерами',\n",
              "  '.']]"
            ]
          },
          "metadata": {},
          "execution_count": 31
        }
      ],
      "source": [
        "n_sen_chunk_2 = n_sentenize(text2)\n",
        "n_sen_chunk_2"
      ]
    },
    {
      "cell_type": "code",
      "execution_count": 32,
      "metadata": {
        "id": "606f2bce",
        "outputId": "3faecab8-f8a2-41ca-c466-031418143f04",
        "colab": {
          "base_uri": "https://localhost:8080/"
        }
      },
      "outputs": [
        {
          "output_type": "execute_result",
          "data": {
            "text/plain": [
              "[['Содержит',\n",
              "  'ли',\n",
              "  'это',\n",
              "  'излучение',\n",
              "  'информацию',\n",
              "  'об',\n",
              "  'их',\n",
              "  'внутренней',\n",
              "  'структуре',\n",
              "  ',',\n",
              "  'как',\n",
              "  'это',\n",
              "  'предполагает',\n",
              "  'дуальность',\n",
              "  'тяготение-калибровочная',\n",
              "  'инвариантность',\n",
              "  ',',\n",
              "  'или',\n",
              "  'нет',\n",
              "  ',',\n",
              "  'как',\n",
              "  'следует',\n",
              "  'из',\n",
              "  'оригинального',\n",
              "  'расчёта',\n",
              "  'Хокинга',\n",
              "  '?']]"
            ]
          },
          "metadata": {},
          "execution_count": 32
        }
      ],
      "source": [
        "n_sen_chunk_3 = n_sentenize(text3)\n",
        "n_sen_chunk_3"
      ]
    },
    {
      "cell_type": "markdown",
      "metadata": {
        "id": "82b3c1d2"
      },
      "source": [
        "### Частеречная разметка"
      ]
    },
    {
      "cell_type": "code",
      "execution_count": 35,
      "metadata": {
        "id": "b70825c2"
      },
      "outputs": [],
      "source": [
        "from navec import Navec\n",
        "from slovnet import Morph"
      ]
    },
    {
      "cell_type": "code",
      "execution_count": 38,
      "metadata": {
        "id": "f88cb66f"
      },
      "outputs": [],
      "source": [
        "# Файл необходимо скачать по ссылке https://github.com/natasha/navec#downloads\n",
        "navec = Navec.load('navec_news_v1_1B_250K_300d_100q.tar')"
      ]
    },
    {
      "cell_type": "code",
      "execution_count": 37,
      "metadata": {
        "id": "70ca149d"
      },
      "outputs": [],
      "source": [
        "# Файл необходимо скачать по ссылке https://github.com/natasha/slovnet#downloads\n",
        "n_morph = Morph.load('slovnet_morph_news_v1.tar', batch_size=4)"
      ]
    },
    {
      "cell_type": "code",
      "execution_count": 39,
      "metadata": {
        "id": "10ddf955"
      },
      "outputs": [],
      "source": [
        "morph_res = n_morph.navec(navec)"
      ]
    },
    {
      "cell_type": "code",
      "execution_count": 40,
      "metadata": {
        "id": "6616a02c"
      },
      "outputs": [],
      "source": [
        "def print_pos(markup):\n",
        "    for token in markup.tokens:\n",
        "        print('{} - {}'.format(token.text, token.tag))"
      ]
    },
    {
      "cell_type": "code",
      "execution_count": 41,
      "metadata": {
        "id": "c9e3e4cd",
        "outputId": "272b1120-824f-40bb-d426-72335461dae6",
        "colab": {
          "base_uri": "https://localhost:8080/"
        }
      },
      "outputs": [
        {
          "output_type": "stream",
          "name": "stdout",
          "text": [
            "Адаптивная - ADJ|Case=Nom|Degree=Pos|Gender=Fem|Number=Sing\n",
            "вёрстка - NOUN|Animacy=Inan|Case=Nom|Gender=Fem|Number=Sing\n",
            "меняет - VERB|Aspect=Imp|Mood=Ind|Number=Sing|Person=3|Tense=Pres|VerbForm=Fin|Voice=Act\n",
            "дизайн - NOUN|Animacy=Inan|Case=Acc|Gender=Masc|Number=Sing\n",
            "страницы - NOUN|Animacy=Inan|Case=Gen|Gender=Fem|Number=Sing\n",
            "в - ADP\n",
            "зависимости - NOUN|Animacy=Inan|Case=Loc|Gender=Fem|Number=Sing\n",
            "от - ADP\n",
            "поведения - NOUN|Animacy=Inan|Case=Gen|Gender=Neut|Number=Sing\n",
            "пользователя - NOUN|Animacy=Anim|Case=Gen|Gender=Masc|Number=Sing\n",
            ", - PUNCT\n",
            "платформы - NOUN|Animacy=Inan|Case=Gen|Gender=Fem|Number=Sing\n",
            ", - PUNCT\n",
            "размера - NOUN|Animacy=Inan|Case=Gen|Gender=Masc|Number=Sing\n",
            "экрана - NOUN|Animacy=Inan|Case=Gen|Gender=Masc|Number=Sing\n",
            "и - CCONJ\n",
            "ориентации - NOUN|Animacy=Inan|Case=Gen|Gender=Fem|Number=Sing\n",
            "девайса - NOUN|Animacy=Inan|Case=Gen|Gender=Masc|Number=Sing\n",
            "и - CCONJ\n",
            "является - VERB|Aspect=Imp|Mood=Ind|Number=Sing|Person=3|Tense=Pres|VerbForm=Fin|Voice=Mid\n",
            "неотъемлемой - ADJ|Case=Ins|Degree=Pos|Gender=Fem|Number=Sing\n",
            "частью - NOUN|Animacy=Inan|Case=Ins|Gender=Fem|Number=Sing\n",
            "современной - ADJ|Case=Gen|Degree=Pos|Gender=Fem|Number=Sing\n",
            "веб-разработки - NOUN|Animacy=Inan|Case=Gen|Gender=Fem|Number=Sing\n",
            ". - PUNCT\n"
          ]
        },
        {
          "output_type": "execute_result",
          "data": {
            "text/plain": [
              "[None]"
            ]
          },
          "metadata": {},
          "execution_count": 41
        }
      ],
      "source": [
        "n_text1_markup = list(_ for _ in n_morph.map(n_sen_chunk_1))\n",
        "[print_pos(x) for x in n_text1_markup]"
      ]
    },
    {
      "cell_type": "code",
      "execution_count": 42,
      "metadata": {
        "id": "c92e91e2",
        "outputId": "76a5ec67-710d-4f95-c78d-8e2d468c3323",
        "colab": {
          "base_uri": "https://localhost:8080/"
        }
      },
      "outputs": [
        {
          "output_type": "stream",
          "name": "stdout",
          "text": [
            "Покупатели - NOUN|Animacy=Anim|Case=Nom|Gender=Masc|Number=Plur\n",
            "могут - VERB|Aspect=Imp|Mood=Ind|Number=Plur|Person=3|Tense=Pres|VerbForm=Fin|Voice=Act\n",
            "получать - VERB|Aspect=Imp|VerbForm=Inf|Voice=Act\n",
            "заказы - NOUN|Animacy=Inan|Case=Acc|Gender=Masc|Number=Plur\n",
            "в - ADP\n",
            "пунктах - NOUN|Animacy=Inan|Case=Loc|Gender=Masc|Number=Plur\n",
            "выдачи - NOUN|Animacy=Inan|Case=Gen|Gender=Fem|Number=Sing\n",
            "заказов - NOUN|Animacy=Inan|Case=Gen|Gender=Masc|Number=Plur\n",
            ", - PUNCT\n",
            "в - ADP\n",
            "почтоматах - NOUN|Animacy=Inan|Case=Loc|Gender=Masc|Number=Sing\n",
            "( - PUNCT\n",
            "преимуществом - NOUN|Animacy=Inan|Case=Ins|Gender=Neut|Number=Sing\n",
            "этого - DET|Case=Gen|Gender=Masc|Number=Sing\n",
            "варианта - NOUN|Animacy=Inan|Case=Gen|Gender=Masc|Number=Sing\n",
            "является - VERB|Aspect=Imp|Mood=Ind|Number=Sing|Person=3|Tense=Pres|VerbForm=Fin|Voice=Mid\n",
            "экономия - NOUN|Animacy=Inan|Case=Nom|Gender=Fem|Number=Sing\n",
            "на - ADP\n",
            "оплате - NOUN|Animacy=Inan|Case=Loc|Gender=Fem|Number=Sing\n",
            "труда - NOUN|Animacy=Inan|Case=Gen|Gender=Masc|Number=Sing\n",
            ") - PUNCT\n",
            "или - CCONJ\n",
            "заказы - NOUN|Animacy=Inan|Case=Nom|Gender=Masc|Number=Plur\n",
            "могут - VERB|Aspect=Imp|Mood=Ind|Number=Plur|Person=3|Tense=Pres|VerbForm=Fin|Voice=Act\n",
            "доставляться - VERB|Aspect=Imp|VerbForm=Inf|Voice=Pass\n",
            "им - PRON|Case=Dat|Number=Plur|Person=3\n",
            "непосредственно - ADV|Degree=Pos\n",
            "до - ADP\n",
            "дома - NOUN|Animacy=Inan|Case=Gen|Gender=Masc|Number=Sing\n",
            "( - PUNCT\n",
            "или - CCONJ\n",
            "места - NOUN|Animacy=Inan|Case=Gen|Gender=Neut|Number=Sing\n",
            "работы - NOUN|Animacy=Inan|Case=Gen|Gender=Fem|Number=Sing\n",
            ") - PUNCT\n",
            "курьерами - NOUN|Animacy=Anim|Case=Ins|Gender=Masc|Number=Plur\n",
            ". - PUNCT\n"
          ]
        },
        {
          "output_type": "execute_result",
          "data": {
            "text/plain": [
              "[None]"
            ]
          },
          "metadata": {},
          "execution_count": 42
        }
      ],
      "source": [
        "n_text2_markup = list(n_morph.map(n_sen_chunk_2))\n",
        "[print_pos(x) for x in n_text2_markup]"
      ]
    },
    {
      "cell_type": "code",
      "execution_count": 43,
      "metadata": {
        "id": "7b16bd5a",
        "outputId": "63be61e2-c92b-402e-9a77-e411bdfda682",
        "colab": {
          "base_uri": "https://localhost:8080/"
        }
      },
      "outputs": [
        {
          "output_type": "stream",
          "name": "stdout",
          "text": [
            "Содержит - VERB|Aspect=Imp|Mood=Ind|Number=Sing|Person=3|Tense=Pres|VerbForm=Fin|Voice=Act\n",
            "ли - PART\n",
            "это - DET|Case=Nom|Gender=Neut|Number=Sing\n",
            "излучение - NOUN|Animacy=Inan|Case=Nom|Gender=Neut|Number=Sing\n",
            "информацию - NOUN|Animacy=Inan|Case=Acc|Gender=Fem|Number=Sing\n",
            "об - ADP\n",
            "их - DET\n",
            "внутренней - ADJ|Case=Loc|Degree=Pos|Gender=Fem|Number=Sing\n",
            "структуре - NOUN|Animacy=Inan|Case=Loc|Gender=Fem|Number=Sing\n",
            ", - PUNCT\n",
            "как - SCONJ\n",
            "это - PRON|Animacy=Inan|Case=Nom|Gender=Neut|Number=Sing\n",
            "предполагает - VERB|Aspect=Imp|Mood=Ind|Number=Sing|Person=3|Tense=Pres|VerbForm=Fin|Voice=Act\n",
            "дуальность - ADJ|Case=Ins|Degree=Pos|Gender=Masc|Number=Sing\n",
            "тяготение-калибровочная - ADJ|Case=Ins|Degree=Pos|Gender=Masc|Number=Sing\n",
            "инвариантность - NOUN|Animacy=Inan|Case=Gen|Gender=Masc|Number=Sing\n",
            ", - PUNCT\n",
            "или - CCONJ\n",
            "нет - PART\n",
            ", - PUNCT\n",
            "как - SCONJ\n",
            "следует - VERB|Aspect=Imp|Mood=Ind|Number=Sing|Person=3|Tense=Pres|VerbForm=Fin|Voice=Act\n",
            "из - ADP\n",
            "оригинального - ADJ|Case=Gen|Degree=Pos|Gender=Neut|Number=Sing\n",
            "расчёта - NOUN|Animacy=Inan|Case=Gen|Gender=Neut|Number=Sing\n",
            "Хокинга - PROPN|Animacy=Anim|Case=Gen|Gender=Masc|Number=Sing\n",
            "? - PUNCT\n"
          ]
        },
        {
          "output_type": "execute_result",
          "data": {
            "text/plain": [
              "[None]"
            ]
          },
          "metadata": {},
          "execution_count": 43
        }
      ],
      "source": [
        "n_text3_markup = list(n_morph.map(n_sen_chunk_3))\n",
        "[print_pos(x) for x in n_text3_markup]"
      ]
    },
    {
      "cell_type": "markdown",
      "metadata": {
        "id": "e1a7aba8"
      },
      "source": [
        "### Лемматизация"
      ]
    },
    {
      "cell_type": "code",
      "execution_count": 46,
      "metadata": {
        "id": "166550ee"
      },
      "outputs": [],
      "source": [
        "from natasha import Doc, Segmenter, NewsEmbedding, NewsMorphTagger, MorphVocab"
      ]
    },
    {
      "cell_type": "code",
      "execution_count": 47,
      "metadata": {
        "id": "31286af1"
      },
      "outputs": [],
      "source": [
        "def n_lemmatize(text):\n",
        "    emb = NewsEmbedding()\n",
        "    morph_tagger = NewsMorphTagger(emb)\n",
        "    segmenter = Segmenter()\n",
        "    morph_vocab = MorphVocab()\n",
        "    doc = Doc(text)\n",
        "    doc.segment(segmenter)\n",
        "    doc.tag_morph(morph_tagger)\n",
        "    for token in doc.tokens:\n",
        "        token.lemmatize(morph_vocab)\n",
        "    return doc"
      ]
    },
    {
      "cell_type": "code",
      "execution_count": 48,
      "metadata": {
        "id": "cacc4c33",
        "outputId": "583185a4-56d1-40c7-85ac-e73ea14e32ee",
        "colab": {
          "base_uri": "https://localhost:8080/"
        }
      },
      "outputs": [
        {
          "output_type": "execute_result",
          "data": {
            "text/plain": [
              "{'Адаптивная': 'адаптивный',\n",
              " 'вёрстка': 'верстка',\n",
              " 'меняет': 'менять',\n",
              " 'дизайн': 'дизайн',\n",
              " 'страницы': 'страница',\n",
              " 'в': 'в',\n",
              " 'зависимости': 'зависимость',\n",
              " 'от': 'от',\n",
              " 'поведения': 'поведение',\n",
              " 'пользователя': 'пользователь',\n",
              " ',': ',',\n",
              " 'платформы': 'платформа',\n",
              " 'размера': 'размер',\n",
              " 'экрана': 'экран',\n",
              " 'и': 'и',\n",
              " 'ориентации': 'ориентация',\n",
              " 'девайса': 'девайс',\n",
              " 'является': 'являться',\n",
              " 'неотъемлемой': 'неотъемлемый',\n",
              " 'частью': 'часть',\n",
              " 'современной': 'современный',\n",
              " 'веб-разработки': 'веб-разработка',\n",
              " '.': '.'}"
            ]
          },
          "metadata": {},
          "execution_count": 48
        }
      ],
      "source": [
        "n_doc1 = n_lemmatize(text1)\n",
        "{_.text: _.lemma for _ in n_doc1.tokens}"
      ]
    },
    {
      "cell_type": "code",
      "execution_count": 49,
      "metadata": {
        "id": "8cb245bc",
        "outputId": "1c496939-d9d3-449f-ddec-ec28b02a2be0",
        "colab": {
          "base_uri": "https://localhost:8080/"
        }
      },
      "outputs": [
        {
          "output_type": "execute_result",
          "data": {
            "text/plain": [
              "{'Покупатели': 'покупатель',\n",
              " 'могут': 'мочь',\n",
              " 'получать': 'получать',\n",
              " 'заказы': 'заказ',\n",
              " 'в': 'в',\n",
              " 'пунктах': 'пункт',\n",
              " 'выдачи': 'выдача',\n",
              " 'заказов': 'заказ',\n",
              " ',': ',',\n",
              " 'почтоматах': 'почтомат',\n",
              " '(': '(',\n",
              " 'преимуществом': 'преимущество',\n",
              " 'этого': 'этот',\n",
              " 'варианта': 'вариант',\n",
              " 'является': 'являться',\n",
              " 'экономия': 'экономия',\n",
              " 'на': 'на',\n",
              " 'оплате': 'оплата',\n",
              " 'труда': 'труд',\n",
              " ')': ')',\n",
              " 'или': 'или',\n",
              " 'доставляться': 'доставляться',\n",
              " 'им': 'они',\n",
              " 'непосредственно': 'непосредственно',\n",
              " 'до': 'до',\n",
              " 'дома': 'дом',\n",
              " 'места': 'место',\n",
              " 'работы': 'работа',\n",
              " 'курьерами': 'курьер',\n",
              " '.': '.'}"
            ]
          },
          "metadata": {},
          "execution_count": 49
        }
      ],
      "source": [
        "n_doc2 = n_lemmatize(text2)\n",
        "{_.text: _.lemma for _ in n_doc2.tokens}"
      ]
    },
    {
      "cell_type": "code",
      "execution_count": 50,
      "metadata": {
        "id": "302104a4",
        "outputId": "5fced013-3854-4ee0-d17c-9c9407a120ab",
        "colab": {
          "base_uri": "https://localhost:8080/"
        }
      },
      "outputs": [
        {
          "output_type": "execute_result",
          "data": {
            "text/plain": [
              "{'Содержит': 'содержать',\n",
              " 'ли': 'ли',\n",
              " 'это': 'это',\n",
              " 'излучение': 'излучение',\n",
              " 'информацию': 'информация',\n",
              " 'об': 'о',\n",
              " 'их': 'их',\n",
              " 'внутренней': 'внутренний',\n",
              " 'структуре': 'структура',\n",
              " ',': ',',\n",
              " 'как': 'как',\n",
              " 'предполагает': 'предполагать',\n",
              " 'дуальность': 'дуальность',\n",
              " 'тяготение-калибровочная': 'тяготение-калибровочный',\n",
              " 'инвариантность': 'инвариантность',\n",
              " 'или': 'или',\n",
              " 'нет': 'нет',\n",
              " 'следует': 'следовать',\n",
              " 'из': 'из',\n",
              " 'оригинального': 'оригинальный',\n",
              " 'расчёта': 'расчет',\n",
              " 'Хокинга': 'хокинг',\n",
              " '?': '?'}"
            ]
          },
          "metadata": {},
          "execution_count": 50
        }
      ],
      "source": [
        "n_doc3 = n_lemmatize(text3)\n",
        "{_.text: _.lemma for _ in n_doc3.tokens}"
      ]
    },
    {
      "cell_type": "markdown",
      "metadata": {
        "id": "fd1dc817"
      },
      "source": [
        "### Выделение (распознавание) именованных сущностей"
      ]
    },
    {
      "cell_type": "code",
      "execution_count": 51,
      "metadata": {
        "id": "b4c77e29"
      },
      "outputs": [],
      "source": [
        "from slovnet import NER\n",
        "from ipymarkup import show_span_ascii_markup as show_markup"
      ]
    },
    {
      "cell_type": "code",
      "execution_count": 53,
      "metadata": {
        "id": "5d1e1212"
      },
      "outputs": [],
      "source": [
        "ner = NER.load('slovnet_ner_news_v1.tar')\n",
        "ner_res = ner.navec(navec)\n",
        "markup_ner3 = ner(text3)"
      ]
    },
    {
      "cell_type": "code",
      "execution_count": 54,
      "metadata": {
        "id": "4beca315",
        "outputId": "451e0f94-e2ad-4dd4-8574-e013490a46bb",
        "colab": {
          "base_uri": "https://localhost:8080/"
        }
      },
      "outputs": [
        {
          "output_type": "execute_result",
          "data": {
            "text/plain": [
              "SpanMarkup(\n",
              "    text='Содержит ли это излучение информацию об их внутренней структуре, как это предполагает дуальность тяготение-калибровочная инвариантность, или нет, как следует из оригинального расчёта Хокинга?',\n",
              "    spans=[Span(\n",
              "         start=183,\n",
              "         stop=190,\n",
              "         type='PER'\n",
              "     )]\n",
              ")"
            ]
          },
          "metadata": {},
          "execution_count": 54
        }
      ],
      "source": [
        "markup_ner3"
      ]
    },
    {
      "cell_type": "code",
      "execution_count": 55,
      "metadata": {
        "id": "1bd7195e",
        "outputId": "111a5d20-5732-4189-ec24-4826916a9830",
        "colab": {
          "base_uri": "https://localhost:8080/"
        }
      },
      "outputs": [
        {
          "output_type": "stream",
          "name": "stdout",
          "text": [
            "Содержит ли это излучение информацию об их внутренней структуре, как \n",
            "это предполагает дуальность тяготение-калибровочная инвариантность, \n",
            "или нет, как следует из оригинального расчёта Хокинга?\n",
            "                                              PER──── \n"
          ]
        }
      ],
      "source": [
        "show_markup(markup_ner3.text, markup_ner3.spans)"
      ]
    },
    {
      "cell_type": "markdown",
      "metadata": {
        "id": "ebfea289"
      },
      "source": [
        "### Разбор предложения"
      ]
    },
    {
      "cell_type": "code",
      "execution_count": 56,
      "metadata": {
        "id": "7d6e5cfd"
      },
      "outputs": [],
      "source": [
        "from natasha import NewsSyntaxParser"
      ]
    },
    {
      "cell_type": "code",
      "execution_count": 57,
      "metadata": {
        "id": "b230fd32"
      },
      "outputs": [],
      "source": [
        "emb = NewsEmbedding()\n",
        "syntax_parser = NewsSyntaxParser(emb)"
      ]
    },
    {
      "cell_type": "code",
      "execution_count": 58,
      "metadata": {
        "id": "df108087",
        "outputId": "2ac86fa0-0fae-463f-a871-61d7c4c57a02",
        "colab": {
          "base_uri": "https://localhost:8080/"
        }
      },
      "outputs": [
        {
          "output_type": "stream",
          "name": "stdout",
          "text": [
            "            ┌► Адаптивная     amod\n",
            "          ┌►└─ вёрстка        nsubj\n",
            "┌─┌─────┌─└─┌─ меняет         \n",
            "│ │     │ ┌─└► дизайн         obj\n",
            "│ │     │ └──► страницы       nmod\n",
            "│ │     │   ┌► в              case\n",
            "│ │     └►┌─└─ зависимости    obl\n",
            "│ │       │ ┌► от             case\n",
            "│ │       └►└─ поведения      nmod\n",
            "│ │ ┌─┌─┌─└──► пользователя   nmod\n",
            "│ │ │ │ │   ┌► ,              punct\n",
            "│ │ │ │ └──►└─ платформы      conj\n",
            "│ │ │ │     ┌► ,              punct\n",
            "│ │ │ └──►┌─└─ размера        conj\n",
            "│ │ │     └──► экрана         nmod\n",
            "│ │ │       ┌► и              cc\n",
            "│ │ └────►┌─└─ ориентации     conj\n",
            "│ │       └──► девайса        nmod\n",
            "│ │         ┌► и              cc\n",
            "│ └──────►┌─└─ является       conj\n",
            "│         │ ┌► неотъемлемой   amod\n",
            "│       ┌─└►└─ частью         xcomp\n",
            "│       │   ┌► современной    amod\n",
            "│       └──►└─ веб-разработки nmod\n",
            "└────────────► .              punct\n"
          ]
        }
      ],
      "source": [
        "\n",
        "n_doc1.parse_syntax(syntax_parser)\n",
        "n_doc1.sents[0].syntax.print()"
      ]
    },
    {
      "cell_type": "code",
      "execution_count": 59,
      "metadata": {
        "id": "2fe1fb9d",
        "outputId": "81d36efc-dd65-459b-f714-14e9a26ba633",
        "colab": {
          "base_uri": "https://localhost:8080/"
        }
      },
      "outputs": [
        {
          "output_type": "stream",
          "name": "stdout",
          "text": [
            "                  ┌► Покупатели      nsubj\n",
            "┌─────┌─────────┌─└─ могут           \n",
            "│ ┌───│         └►┌─ получать        xcomp\n",
            "│ │   │         ┌─└► заказы          obj\n",
            "│ │   │         │ ┌► в               case\n",
            "│ │   │         └►└─ пунктах         nmod\n",
            "│ │   │         └►┌─ выдачи          nmod\n",
            "│ │   │           └► заказов         nmod\n",
            "│ │   │         ┌──► ,               punct\n",
            "│ │   │         │ ┌► в               case\n",
            "│ │   │   ┌────►└─└─ почтоматах      conj\n",
            "│ │   │ ┌►│          (               punct\n",
            "│ │ ┌►│ │ │     ┌─── преимуществом   amod\n",
            "│ │ │ │ │ │     │ ┌► этого           det\n",
            "│ │ │ │ │ │     └►└─ варианта        nmod\n",
            "│ │ │ │ │ │       ┌─ является        \n",
            "│ │ │ │ │ │   ┌─┌─└► экономия        nsubj\n",
            "│ │ │ │ │ │   │ │ ┌► на              case\n",
            "│ │ │ │ │ │   │ └►└─ оплате          nmod\n",
            "│ │ │ │ │ │   │ └──► труда           nmod\n",
            "│ │ │ │ │ │ ┌►│      )               punct\n",
            "│ │ │ │ │ │ │ │   ┌► или             cc\n",
            "│ │ │ │ │ │ │ └──►└─ заказы          conj\n",
            "│ │ │ └►│ │ │     ┌─ могут           conj\n",
            "│ │ │   │ │ │ ┌─┌─└► доставляться    xcomp\n",
            "│ │ │   │ │ │ │ └──► им              iobj\n",
            "│ │ │   │ │ │ │ ┌──► непосредственно advmod\n",
            "│ │ │   │ │ │ │ │ ┌► до              case\n",
            "│ │ │   │ └─│ └►└─└─ дома            obl\n",
            "│ │ │   │   │ │ ┌──► (               punct\n",
            "│ │ │   │   │ │ │ ┌► или             cc\n",
            "│ │ │   └───└─└►└─└─ места           parataxis\n",
            "│ │ │         │ └──► работы          nmod\n",
            "│ │ │         └────► )               punct\n",
            "│ └►└─────────────── курьерами       obl\n",
            "└──────────────────► .               punct\n"
          ]
        }
      ],
      "source": [
        "n_doc2.parse_syntax(syntax_parser)\n",
        "n_doc2.sents[0].syntax.print()"
      ]
    },
    {
      "cell_type": "code",
      "execution_count": 60,
      "metadata": {
        "id": "9bf0ecd1",
        "outputId": "eb8ef538-6363-4896-be24-17dd642bdaf3",
        "colab": {
          "base_uri": "https://localhost:8080/"
        }
      },
      "outputs": [
        {
          "output_type": "stream",
          "name": "stdout",
          "text": [
            "  ┌────────────► Содержит                ccomp\n",
            "  │              ли                      \n",
            "  │           ┌► это                     det\n",
            "  │           └─ излучение               \n",
            "┌─│     ┌─────── информацию              \n",
            "│ │     │ ┌────► об                      case\n",
            "│ │     │ │ ┌──► их                      det\n",
            "│ │     │ │ │ ┌► внутренней              amod\n",
            "│ │     └►└─└─└─ структуре               nmod\n",
            "│ │       ┌────► ,                       punct\n",
            "│ │       │ ┌──► как                     mark\n",
            "│ │       │ │ ┌► это                     nsubj\n",
            "│ │ ┌─┌─┌►└─└─└─ предполагает            ccomp\n",
            "│ │ │ │ │   ┌──► дуальность              amod\n",
            "│ │ │ │ │   │ ┌► тяготение-калибровочная amod\n",
            "│ │ │ │ │   └─└─ инвариантность          \n",
            "│ │ │ │ │   ┌──► ,                       punct\n",
            "│ │ │ │ │   │ ┌► или                     cc\n",
            "│ └─│ └►└─┌─└─└─ нет                     conj\n",
            "│   └────►│      ,                       punct\n",
            "│         │   ┌► как                     mark\n",
            "│         └──►└─ следует                 parataxis\n",
            "│           ┌──► из                      case\n",
            "│           │ ┌► оригинального           amod\n",
            "└──────────►└─└─ расчёта                 nmod\n",
            "            └──► Хокинга                 nmod\n",
            "                 ?                       \n"
          ]
        }
      ],
      "source": [
        "n_doc3.parse_syntax(syntax_parser)\n",
        "n_doc3.sents[0].syntax.print()"
      ]
    }
  ]
}